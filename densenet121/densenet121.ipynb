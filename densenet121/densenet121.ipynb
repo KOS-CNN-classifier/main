{
  "cells": [
    {
      "cell_type": "code",
      "execution_count": null,
      "metadata": {
        "colab": {
          "base_uri": "https://localhost:8080/"
        },
        "id": "ndTtr8Ig1SyB",
        "outputId": "e1ca9307-d87b-43d9-e175-e041c1c75591"
      },
      "outputs": [
        {
          "output_type": "stream",
          "name": "stdout",
          "text": [
            "Requirement already satisfied: torch in /usr/local/lib/python3.10/dist-packages (2.5.1+cu121)\n",
            "Requirement already satisfied: torchvision in /usr/local/lib/python3.10/dist-packages (0.20.1+cu121)\n",
            "Requirement already satisfied: matplotlib in /usr/local/lib/python3.10/dist-packages (3.8.0)\n",
            "Requirement already satisfied: filelock in /usr/local/lib/python3.10/dist-packages (from torch) (3.16.1)\n",
            "Requirement already satisfied: typing-extensions>=4.8.0 in /usr/local/lib/python3.10/dist-packages (from torch) (4.12.2)\n",
            "Requirement already satisfied: networkx in /usr/local/lib/python3.10/dist-packages (from torch) (3.4.2)\n",
            "Requirement already satisfied: jinja2 in /usr/local/lib/python3.10/dist-packages (from torch) (3.1.4)\n",
            "Requirement already satisfied: fsspec in /usr/local/lib/python3.10/dist-packages (from torch) (2024.10.0)\n",
            "Requirement already satisfied: sympy==1.13.1 in /usr/local/lib/python3.10/dist-packages (from torch) (1.13.1)\n",
            "Requirement already satisfied: mpmath<1.4,>=1.1.0 in /usr/local/lib/python3.10/dist-packages (from sympy==1.13.1->torch) (1.3.0)\n",
            "Requirement already satisfied: numpy in /usr/local/lib/python3.10/dist-packages (from torchvision) (1.26.4)\n",
            "Requirement already satisfied: pillow!=8.3.*,>=5.3.0 in /usr/local/lib/python3.10/dist-packages (from torchvision) (11.0.0)\n",
            "Requirement already satisfied: contourpy>=1.0.1 in /usr/local/lib/python3.10/dist-packages (from matplotlib) (1.3.1)\n",
            "Requirement already satisfied: cycler>=0.10 in /usr/local/lib/python3.10/dist-packages (from matplotlib) (0.12.1)\n",
            "Requirement already satisfied: fonttools>=4.22.0 in /usr/local/lib/python3.10/dist-packages (from matplotlib) (4.55.1)\n",
            "Requirement already satisfied: kiwisolver>=1.0.1 in /usr/local/lib/python3.10/dist-packages (from matplotlib) (1.4.7)\n",
            "Requirement already satisfied: packaging>=20.0 in /usr/local/lib/python3.10/dist-packages (from matplotlib) (24.2)\n",
            "Requirement already satisfied: pyparsing>=2.3.1 in /usr/local/lib/python3.10/dist-packages (from matplotlib) (3.2.0)\n",
            "Requirement already satisfied: python-dateutil>=2.7 in /usr/local/lib/python3.10/dist-packages (from matplotlib) (2.8.2)\n",
            "Requirement already satisfied: six>=1.5 in /usr/local/lib/python3.10/dist-packages (from python-dateutil>=2.7->matplotlib) (1.16.0)\n",
            "Requirement already satisfied: MarkupSafe>=2.0 in /usr/local/lib/python3.10/dist-packages (from jinja2->torch) (3.0.2)\n",
            "Requirement already satisfied: scikit-learn in /usr/local/lib/python3.10/dist-packages (1.5.2)\n",
            "Requirement already satisfied: numpy>=1.19.5 in /usr/local/lib/python3.10/dist-packages (from scikit-learn) (1.26.4)\n",
            "Requirement already satisfied: scipy>=1.6.0 in /usr/local/lib/python3.10/dist-packages (from scikit-learn) (1.13.1)\n",
            "Requirement already satisfied: joblib>=1.2.0 in /usr/local/lib/python3.10/dist-packages (from scikit-learn) (1.4.2)\n",
            "Requirement already satisfied: threadpoolctl>=3.1.0 in /usr/local/lib/python3.10/dist-packages (from scikit-learn) (3.5.0)\n"
          ]
        }
      ],
      "source": [
        "# Install PyTorch and other required libraries\n",
        "!pip install torch torchvision matplotlib\n",
        "!pip install scikit-learn\n"
      ]
    },
    {
      "cell_type": "code",
      "execution_count": null,
      "metadata": {
        "id": "DoHO7fVg7nYO",
        "colab": {
          "base_uri": "https://localhost:8080/"
        },
        "outputId": "d9418c6e-e188-4be0-c4e3-8fcd3402b4c9"
      },
      "outputs": [
        {
          "output_type": "stream",
          "name": "stdout",
          "text": [
            "Drive already mounted at /content/drive; to attempt to forcibly remount, call drive.mount(\"/content/drive\", force_remount=True).\n"
          ]
        }
      ],
      "source": [
        "import os\n",
        "import zipfile\n",
        "import requests\n",
        "\n",
        "from google.colab import drive\n",
        "drive.mount('/content/drive')\n",
        "\n",
        "# Define URL for dataset download\n",
        "dataset_url = 'https://archive.ics.uci.edu/static/public/920/jute+pest+dataset.zip'\n",
        "dataset_path = '/content/drive/MyDrive/PR- CNN Assignment/jute_pest_dataset.zip'\n",
        "\n",
        "# Download the dataset\n",
        "response = requests.get(dataset_url)\n",
        "with open(dataset_path, 'wb') as f:\n",
        "    f.write(response.content)\n",
        "\n",
        "# Unzip the dataset\n",
        "with zipfile.ZipFile(dataset_path, 'r') as zip_ref:\n",
        "    zip_ref.extractall('/content/drive/MyDrive/PR- CNN Assignment/jute_pest_dataset')\n",
        "\n"
      ]
    },
    {
      "cell_type": "code",
      "execution_count": null,
      "metadata": {
        "id": "tl9oPIOC8FNB"
      },
      "outputs": [],
      "source": [
        "with zipfile.ZipFile('/content/drive/MyDrive/PR- CNN Assignment/jute_pest_dataset/Jute_Pest_Dataset.zip', 'r') as zip_ref:\n",
        "    zip_ref.extractall('/content/drive/MyDrive/PR- CNN Assignment/jute_pest_dataset1')"
      ]
    },
    {
      "cell_type": "code",
      "execution_count": null,
      "metadata": {
        "colab": {
          "base_uri": "https://localhost:8080/"
        },
        "id": "p9g-hyAG1hIv",
        "outputId": "7516efd9-b2b3-4680-b7f1-b7e27b4bab60"
      },
      "outputs": [
        {
          "output_type": "stream",
          "name": "stdout",
          "text": [
            "Number of classes: 17\n"
          ]
        }
      ],
      "source": [
        "import os\n",
        "from torchvision import transforms\n",
        "from torch.utils.data import DataLoader\n",
        "from torchvision.datasets import ImageFolder\n",
        "\n",
        "# Define the path to your dataset directory\n",
        "dataset_dir = '/content/drive/MyDrive/PR- CNN Assignment/jute_pest_dataset1/Jute_Pest_Dataset'\n",
        "\n",
        "# Define transformations for preprocessing the images\n",
        "transform = transforms.Compose([\n",
        "    transforms.Resize((224, 224)),   # Resize images to 224x224 for DenseNet\n",
        "    transforms.ToTensor(),           # Convert images to tensors\n",
        "    transforms.Normalize(mean=[0.485, 0.456, 0.406], std=[0.229, 0.224, 0.225])  # Normalize images (ImageNet stats)\n",
        "])\n",
        "\n",
        "# Load the dataset\n",
        "train_dataset = ImageFolder(root=os.path.join(dataset_dir, 'train'), transform=transform)\n",
        "val_dataset = ImageFolder(root=os.path.join(dataset_dir, 'val'), transform=transform)\n",
        "test_dataset = ImageFolder(root=os.path.join(dataset_dir, 'test'), transform=transform)\n",
        "\n",
        "\n",
        "\n",
        "# Create data loaders for batch processing\n",
        "train_loader = DataLoader(train_dataset, batch_size=32, shuffle=True)\n",
        "val_loader = DataLoader(val_dataset, batch_size=32, shuffle=False)\n",
        "test_loader = DataLoader(test_dataset, batch_size=32, shuffle=False)\n",
        "\n",
        "# Check the number of classes\n",
        "num_classes = len(train_dataset.classes)\n",
        "print(f'Number of classes: {num_classes}')\n"
      ]
    },
    {
      "cell_type": "code",
      "source": [
        "from google.colab import drive\n",
        "drive.mount('/content/drive')"
      ],
      "metadata": {
        "colab": {
          "base_uri": "https://localhost:8080/"
        },
        "id": "XdrG5cM5TsmZ",
        "outputId": "00031196-f452-4196-f5b4-8196ffadcff6"
      },
      "execution_count": null,
      "outputs": [
        {
          "output_type": "stream",
          "name": "stdout",
          "text": [
            "Drive already mounted at /content/drive; to attempt to forcibly remount, call drive.mount(\"/content/drive\", force_remount=True).\n"
          ]
        }
      ]
    },
    {
      "cell_type": "code",
      "execution_count": null,
      "metadata": {
        "colab": {
          "base_uri": "https://localhost:8080/"
        },
        "id": "A3Wyqjdf64ZV",
        "outputId": "9bf28bc8-ffe0-4468-fab0-879d4ab5075a"
      },
      "outputs": [
        {
          "output_type": "stream",
          "name": "stderr",
          "text": [
            "/usr/local/lib/python3.10/dist-packages/torchvision/models/_utils.py:208: UserWarning: The parameter 'pretrained' is deprecated since 0.13 and may be removed in the future, please use 'weights' instead.\n",
            "  warnings.warn(\n",
            "/usr/local/lib/python3.10/dist-packages/torchvision/models/_utils.py:223: UserWarning: Arguments other than a weight enum or `None` for 'weights' are deprecated since 0.13 and may be removed in the future. The current behavior is equivalent to passing `weights=DenseNet121_Weights.IMAGENET1K_V1`. You can also use `weights=DenseNet121_Weights.DEFAULT` to get the most up-to-date weights.\n",
            "  warnings.warn(msg)\n",
            "Downloading: \"https://download.pytorch.org/models/densenet121-a639ec97.pth\" to /root/.cache/torch/hub/checkpoints/densenet121-a639ec97.pth\n",
            "100%|██████████| 30.8M/30.8M [00:00<00:00, 149MB/s]\n"
          ]
        }
      ],
      "source": [
        "import torch\n",
        "import torch.nn as nn\n",
        "from torchvision import models\n",
        "\n",
        "# Load DenseNet-121 pre-trained on ImageNet\n",
        "model = models.densenet121(pretrained=True)\n",
        "\n",
        "# Modify the final layer to match the number of classes in your dataset\n",
        "model.classifier = nn.Linear(model.classifier.in_features, num_classes)\n",
        "\n",
        "# Move the model to GPU if available\n",
        "device = torch.device('cuda' if torch.cuda.is_available() else 'cpu')\n",
        "model = model.to(device)\n"
      ]
    },
    {
      "cell_type": "code",
      "execution_count": null,
      "metadata": {
        "colab": {
          "base_uri": "https://localhost:8080/"
        },
        "id": "0DN9xeOi69j4",
        "outputId": "dee98719-8671-45e3-fd02-196280b21470"
      },
      "outputs": [
        {
          "output_type": "stream",
          "name": "stdout",
          "text": [
            "Epoch 0/19\n",
            "----------\n",
            "Training Loss: 0.6968 Acc: 0.7922\n",
            "Validation Loss: 1.0079 Acc: 0.7506\n",
            "Epoch 1/19\n",
            "----------\n",
            "Training Loss: 0.2890 Acc: 0.9126\n",
            "Validation Loss: 1.1470 Acc: 0.7288\n",
            "Epoch 2/19\n",
            "----------\n",
            "Training Loss: 0.2057 Acc: 0.9367\n",
            "Validation Loss: 0.8896 Acc: 0.7990\n",
            "Epoch 3/19\n",
            "----------\n",
            "Training Loss: 0.1543 Acc: 0.9533\n",
            "Validation Loss: 0.8046 Acc: 0.8184\n",
            "Epoch 4/19\n",
            "----------\n",
            "Training Loss: 0.1178 Acc: 0.9640\n",
            "Validation Loss: 0.7886 Acc: 0.8111\n",
            "Epoch 5/19\n",
            "----------\n",
            "Training Loss: 0.1134 Acc: 0.9649\n",
            "Validation Loss: 0.7433 Acc: 0.8571\n",
            "Epoch 6/19\n",
            "----------\n",
            "Training Loss: 0.1148 Acc: 0.9629\n",
            "Validation Loss: 0.6541 Acc: 0.8499\n",
            "Epoch 7/19\n",
            "----------\n",
            "Training Loss: 0.0293 Acc: 0.9936\n",
            "Validation Loss: 0.5571 Acc: 0.8959\n",
            "Epoch 8/19\n",
            "----------\n",
            "Training Loss: 0.0088 Acc: 0.9983\n",
            "Validation Loss: 0.5312 Acc: 0.8959\n",
            "Epoch 9/19\n",
            "----------\n",
            "Training Loss: 0.0071 Acc: 0.9989\n",
            "Validation Loss: 0.5131 Acc: 0.9007\n",
            "Epoch 10/19\n",
            "----------\n",
            "Training Loss: 0.0047 Acc: 0.9997\n",
            "Validation Loss: 0.5112 Acc: 0.9056\n",
            "Epoch 11/19\n",
            "----------\n",
            "Training Loss: 0.0038 Acc: 0.9998\n",
            "Validation Loss: 0.4934 Acc: 0.9031\n",
            "Epoch 12/19\n",
            "----------\n",
            "Training Loss: 0.0041 Acc: 0.9997\n",
            "Validation Loss: 0.4972 Acc: 0.9056\n",
            "Epoch 13/19\n",
            "----------\n",
            "Training Loss: 0.0028 Acc: 0.9998\n",
            "Validation Loss: 0.4998 Acc: 0.9031\n",
            "Epoch 14/19\n",
            "----------\n",
            "Training Loss: 0.0028 Acc: 0.9998\n",
            "Validation Loss: 0.5301 Acc: 0.9007\n",
            "Epoch 15/19\n",
            "----------\n",
            "Training Loss: 0.0023 Acc: 0.9998\n",
            "Validation Loss: 0.5051 Acc: 0.9080\n",
            "Epoch 16/19\n",
            "----------\n",
            "Training Loss: 0.0022 Acc: 0.9998\n",
            "Validation Loss: 0.5196 Acc: 0.9031\n",
            "Epoch 17/19\n",
            "----------\n",
            "Training Loss: 0.0021 Acc: 1.0000\n",
            "Validation Loss: 0.5195 Acc: 0.9056\n",
            "Epoch 18/19\n",
            "----------\n",
            "Training Loss: 0.0021 Acc: 0.9998\n",
            "Validation Loss: 0.5056 Acc: 0.9080\n",
            "Epoch 19/19\n",
            "----------\n",
            "Training Loss: 0.0020 Acc: 1.0000\n",
            "Validation Loss: 0.4943 Acc: 0.9056\n",
            "Best val Acc: 0.9080\n"
          ]
        }
      ],
      "source": [
        "import torch.optim as optim\n",
        "from torch.optim import lr_scheduler\n",
        "import matplotlib.pyplot as plt\n",
        "\n",
        "# Define loss function and optimizer\n",
        "criterion = nn.CrossEntropyLoss()\n",
        "optimizer = optim.Adam(model.parameters(), lr=0.001)\n",
        "\n",
        "# Define learning rate scheduler (optional)\n",
        "scheduler = lr_scheduler.StepLR(optimizer, step_size=7, gamma=0.1)\n",
        "\n",
        "# Function to train the model\n",
        "def train_model(model, train_loader, val_loader, criterion, optimizer, scheduler, num_epochs=25):\n",
        "    best_model_wts = model.state_dict()\n",
        "    best_acc = 0.0\n",
        "\n",
        "    # To store metrics\n",
        "    train_losses = []\n",
        "    val_accuracies = []\n",
        "    val_losses = []\n",
        "\n",
        "    for epoch in range(num_epochs):\n",
        "        print(f'Epoch {epoch}/{num_epochs - 1}')\n",
        "        print('-' * 10)\n",
        "\n",
        "        # Train the model\n",
        "        model.train()\n",
        "        running_loss = 0.0\n",
        "        running_corrects = 0\n",
        "        for inputs, labels in train_loader:\n",
        "            inputs, labels = inputs.to(device), labels.to(device)\n",
        "\n",
        "            # Zero the parameter gradients\n",
        "            optimizer.zero_grad()\n",
        "\n",
        "            # Forward\n",
        "            outputs = model(inputs)\n",
        "            _, preds = torch.max(outputs, 1)\n",
        "            loss = criterion(outputs, labels)\n",
        "\n",
        "            # Backward and optimize\n",
        "            loss.backward()\n",
        "            optimizer.step()\n",
        "\n",
        "            # Statistics\n",
        "            running_loss += loss.item() * inputs.size(0)\n",
        "            running_corrects += torch.sum(preds == labels.data)\n",
        "\n",
        "        epoch_loss = running_loss / len(train_loader.dataset)\n",
        "        epoch_acc = running_corrects.double() / len(train_loader.dataset)\n",
        "        train_losses.append(epoch_loss)\n",
        "\n",
        "        print(f'Training Loss: {epoch_loss:.4f} Acc: {epoch_acc:.4f}')\n",
        "\n",
        "        # Evaluate on validation set\n",
        "        model.eval()\n",
        "        running_loss = 0.0\n",
        "        running_corrects = 0\n",
        "        with torch.no_grad():\n",
        "            for inputs, labels in val_loader:\n",
        "                inputs, labels = inputs.to(device), labels.to(device)\n",
        "                outputs = model(inputs)\n",
        "                _, preds = torch.max(outputs, 1)\n",
        "                loss = criterion(outputs, labels)\n",
        "\n",
        "                running_loss += loss.item() * inputs.size(0)\n",
        "                running_corrects += torch.sum(preds == labels.data)\n",
        "\n",
        "        val_loss = running_loss / len(val_loader.dataset)\n",
        "        val_acc = running_corrects.double() / len(val_loader.dataset)\n",
        "        val_losses.append(val_loss)\n",
        "        val_accuracies.append(val_acc.item())\n",
        "\n",
        "        print(f'Validation Loss: {val_loss:.4f} Acc: {val_acc:.4f}')\n",
        "\n",
        "        # Save the best model\n",
        "        if val_acc > best_acc:\n",
        "            best_acc = val_acc\n",
        "            best_model_wts = model.state_dict()\n",
        "\n",
        "        # Step the learning rate scheduler\n",
        "        scheduler.step()\n",
        "\n",
        "    print(f'Best val Acc: {best_acc:.4f}')\n",
        "\n",
        "    # Load best model weights\n",
        "    model.load_state_dict(best_model_wts)\n",
        "    return model, train_losses, val_losses, val_accuracies\n",
        "\n",
        "# Train the model\n",
        "model, train_losses, val_losses, val_accuracies = train_model(\n",
        "    model, train_loader, val_loader, criterion, optimizer, scheduler, num_epochs=20\n",
        ")\n",
        "\n"
      ]
    },
    {
      "cell_type": "code",
      "source": [
        "# Plotting training loss and validation accuracy\n",
        "plt.figure(figsize=(12, 6))\n",
        "\n",
        "# Plot training loss\n",
        "plt.subplot(1, 2, 1)\n",
        "plt.plot(range(1, len(train_losses) + 1), train_losses, label='Training Loss')\n",
        "plt.plot(range(1, len(val_losses) + 1), val_losses, label='Validation Loss')\n",
        "plt.xlabel('Epochs')\n",
        "plt.ylabel('Loss')\n",
        "plt.title('Training and Validation Loss')\n",
        "plt.legend()\n",
        "\n",
        "# Plot validation accuracy\n",
        "plt.subplot(1, 2, 2)\n",
        "plt.plot(range(1, len(val_accuracies) + 1), val_accuracies, label='Validation Accuracy', color='orange')\n",
        "plt.xlabel('Epochs')\n",
        "plt.ylabel('Accuracy')\n",
        "plt.title('Validation Accuracy')\n",
        "plt.legend()\n",
        "\n",
        "plt.tight_layout()\n",
        "plt.show()\n"
      ],
      "metadata": {
        "id": "XukuvUInE_nv",
        "colab": {
          "base_uri": "https://localhost:8080/"
        },
        "outputId": "4e58e01e-7ef3-42d8-e844-d246bb65d0f6"
      },
      "execution_count": null,
      "outputs": [
        {
          "output_type": "display_data",
          "data": {
            "text/plain": [
              "<Figure size 1200x600 with 2 Axes>"
            ],
            "image/png": "[encoded data removed]"
          },
          "metadata": {}
        }
      ]
    },
    {
      "cell_type": "code",
      "execution_count": null,
      "metadata": {
        "id": "h8ardxtu6_SX",
        "colab": {
          "base_uri": "https://localhost:8080/"
        },
        "outputId": "34a39c7f-1654-494a-e4f7-55f956b2ef2a"
      },
      "outputs": [
        {
          "output_type": "stream",
          "name": "stdout",
          "text": [
            "Test Accuracy: 0.9789\n"
          ]
        }
      ],
      "source": [
        "# Function to evaluate the model on the test set\n",
        "def evaluate_model(model, test_loader):\n",
        "    model.eval()\n",
        "    running_corrects = 0\n",
        "    with torch.no_grad():\n",
        "        for inputs, labels in test_loader:\n",
        "            inputs, labels = inputs.to(device), labels.to(device)\n",
        "            outputs = model(inputs)\n",
        "            _, preds = torch.max(outputs, 1)\n",
        "            running_corrects += torch.sum(preds == labels.data)\n",
        "\n",
        "    test_acc = running_corrects.double() / len(test_loader.dataset)\n",
        "    print(f'Test Accuracy: {test_acc:.4f}')\n",
        "\n",
        "# Evaluate the model\n",
        "evaluate_model(model, test_loader)\n"
      ]
    },
    {
      "cell_type": "code",
      "execution_count": null,
      "metadata": {
        "id": "aJ_gA6Kg7CT9"
      },
      "outputs": [],
      "source": [
        "from PIL import Image\n",
        "import numpy as np\n",
        "\n",
        "# Function for making predictions on new images\n",
        "def predict_image(model, img_path):\n",
        "    model.eval()\n",
        "    img = Image.open(img_path)\n",
        "    img = transform(img).unsqueeze(0).to(device)  # Apply transforms and add batch dimension\n",
        "\n",
        "    with torch.no_grad():\n",
        "        outputs = model(img)\n",
        "        _, preds = torch.max(outputs, 1)\n",
        "\n",
        "    return train_dataset.classes[preds.item()]\n",
        "\n"
      ]
    }
  ],
  "metadata": {
    "colab": {
      "provenance": [],
      "gpuType": "T4"
    },
    "kernelspec": {
      "display_name": "Python 3",
      "name": "python3"
    },
    "language_info": {
      "name": "python"
    },
    "accelerator": "GPU"
  },
  "nbformat": 4,
  "nbformat_minor": 0
}